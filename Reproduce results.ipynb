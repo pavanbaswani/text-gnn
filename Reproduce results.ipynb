{
 "cells": [
  {
   "cell_type": "code",
   "execution_count": 1,
   "metadata": {
    "id": "24jXHfGkTOAi"
   },
   "outputs": [],
   "source": [
    "import pandas as pd"
   ]
  },
  {
   "cell_type": "code",
   "execution_count": 2,
   "metadata": {},
   "outputs": [],
   "source": [
    "path = \"./overall_data/Hindi(Jagran).csv\""
   ]
  },
  {
   "cell_type": "code",
   "execution_count": 4,
   "metadata": {},
   "outputs": [],
   "source": [
    "df = pd.read_csv(path)"
   ]
  },
  {
   "cell_type": "code",
   "execution_count": 5,
   "metadata": {},
   "outputs": [
    {
     "name": "stdout",
     "output_type": "stream",
     "text": [
      "(306847, 3)\n",
      "   Unnamed: 0                                            article  \\\n",
      "0           0  नई दिल्ली, बिजनेस डेस्क। रिटायरमेंट प्लानिंग क...   \n",
      "1           1  नई दिल्ली, पीटीआइ। मंगलवार को सोना सस्ता हुआ, ...   \n",
      "2           2  नई दिल्‍ली, बिजनेस डेस्‍क। विदेशी कोष के निरंत...   \n",
      "3           3  नई दिल्ली, पीटीआइ। केंद्रीय मंत्री नितिन गडकरी...   \n",
      "4           4  नई दिल्ली, बिजनेस डेस्क। फेस्टिव सीजन में होम ...   \n",
      "\n",
      "   no.paragraphs  \n",
      "0           13.0  \n",
      "1           11.0  \n",
      "2            6.0  \n",
      "3            6.0  \n",
      "4            5.0  \n"
     ]
    }
   ],
   "source": [
    "print(df.shape)\n",
    "print(df.head())"
   ]
  },
  {
   "cell_type": "code",
   "execution_count": 6,
   "metadata": {},
   "outputs": [
    {
     "data": {
      "text/plain": [
       "Index(['Unnamed: 0', 'article', 'no.paragraphs'], dtype='object')"
      ]
     },
     "execution_count": 6,
     "metadata": {},
     "output_type": "execute_result"
    }
   ],
   "source": [
    "df.columns"
   ]
  },
  {
   "cell_type": "code",
   "execution_count": null,
   "metadata": {},
   "outputs": [],
   "source": []
  }
 ],
 "metadata": {
  "accelerator": "GPU",
  "colab": {
   "collapsed_sections": [],
   "name": "Run_experiments.ipynb",
   "provenance": []
  },
  "kernelspec": {
   "display_name": "Python 3 (ipykernel)",
   "language": "python",
   "name": "python3"
  },
  "language_info": {
   "codemirror_mode": {
    "name": "ipython",
    "version": 3
   },
   "file_extension": ".py",
   "mimetype": "text/x-python",
   "name": "python",
   "nbconvert_exporter": "python",
   "pygments_lexer": "ipython3",
   "version": "3.8.10"
  }
 },
 "nbformat": 4,
 "nbformat_minor": 1
}
