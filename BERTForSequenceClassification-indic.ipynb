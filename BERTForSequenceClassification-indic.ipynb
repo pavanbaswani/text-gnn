{
 "cells": [
  {
   "cell_type": "markdown",
   "metadata": {},
   "source": [
    "# Importing Libraries"
   ]
  },
  {
   "cell_type": "code",
   "execution_count": null,
   "metadata": {
    "_cell_guid": "b1076dfc-b9ad-4769-8c92-a6c4dae69d19",
    "_uuid": "8f2839f25d086af736a60e9eeb907d3b93b6e0e5",
    "execution": {
     "iopub.execute_input": "2022-04-24T09:37:09.923177Z",
     "iopub.status.busy": "2022-04-24T09:37:09.922438Z",
     "iopub.status.idle": "2022-04-24T09:37:09.927765Z",
     "shell.execute_reply": "2022-04-24T09:37:09.927114Z",
     "shell.execute_reply.started": "2022-04-24T09:37:09.923137Z"
    }
   },
   "outputs": [],
   "source": [
    "import torch\n",
    "from tqdm.notebook import tqdm\n",
    "\n",
    "from transformers import BertTokenizer\n",
    "from torch.utils.data import TensorDataset\n",
    "\n",
    "from transformers import BertForSequenceClassification\n",
    "from torch.utils.data import DataLoader, RandomSampler, SequentialSampler\n",
    "\n",
    "from transformers import AdamW, get_linear_schedule_with_warmup\n",
    "\n",
    "from sklearn.metrics import f1_score\n",
    "from sklearn.metrics import classification_report\n",
    "\n",
    "import random\n",
    "import pickle"
   ]
  },
  {
   "cell_type": "code",
   "execution_count": null,
   "metadata": {
    "execution": {
     "iopub.execute_input": "2022-04-24T09:36:02.636145Z",
     "iopub.status.busy": "2022-04-24T09:36:02.635589Z",
     "iopub.status.idle": "2022-04-24T09:36:02.642734Z",
     "shell.execute_reply": "2022-04-24T09:36:02.64204Z",
     "shell.execute_reply.started": "2022-04-24T09:36:02.636096Z"
    }
   },
   "outputs": [],
   "source": [
    "import pandas as pd\n",
    "import numpy as np\n",
    "from tqdm import tqdm"
   ]
  },
  {
   "cell_type": "markdown",
   "metadata": {},
   "source": [
    "# Reading data and analysing"
   ]
  },
  {
   "cell_type": "code",
   "execution_count": null,
   "metadata": {
    "execution": {
     "iopub.execute_input": "2022-04-24T09:36:02.628967Z",
     "iopub.status.busy": "2022-04-24T09:36:02.628719Z",
     "iopub.status.idle": "2022-04-24T09:36:02.633975Z",
     "shell.execute_reply": "2022-04-24T09:36:02.633199Z",
     "shell.execute_reply.started": "2022-04-24T09:36:02.628933Z"
    }
   },
   "outputs": [],
   "source": [
    "batch_size = 2\n",
    "test_batch_size = 1\n",
    "epochs = 2"
   ]
  },
  {
   "cell_type": "code",
   "execution_count": null,
   "metadata": {
    "execution": {
     "iopub.execute_input": "2022-04-24T06:13:03.133136Z",
     "iopub.status.busy": "2022-04-24T06:13:03.132876Z",
     "iopub.status.idle": "2022-04-24T06:13:03.13764Z",
     "shell.execute_reply": "2022-04-24T06:13:03.136533Z",
     "shell.execute_reply.started": "2022-04-24T06:13:03.133103Z"
    }
   },
   "outputs": [],
   "source": [
    "train_df = pd.read_csv('../input/text-classification-dataset/hindi/hindi/hindi_train.csv',lineterminator='\\n')\n",
    "dev_df = pd.read_csv('../input/text-classification-dataset/hindi/hindi/hindi_valid.csv',lineterminator='\\n')\n",
    "test_df = pd.read_csv('../input/text-classification-dataset/hindi/hindi/hindi_test.csv',lineterminator='\\n')"
   ]
  },
  {
   "cell_type": "code",
   "execution_count": null,
   "metadata": {
    "execution": {
     "iopub.execute_input": "2022-04-24T09:36:12.830156Z",
     "iopub.status.busy": "2022-04-24T09:36:12.829637Z",
     "iopub.status.idle": "2022-04-24T09:36:12.848416Z",
     "shell.execute_reply": "2022-04-24T09:36:12.847677Z",
     "shell.execute_reply.started": "2022-04-24T09:36:12.830113Z"
    }
   },
   "outputs": [],
   "source": [
    "train_df = train_df.drop(columns=['Unnamed: 0'])\n",
    "dev_df = dev_df.drop(columns=['Unnamed: 0'])\n",
    "test_df = test_df.drop(columns=['Unnamed: 0'])"
   ]
  },
  {
   "cell_type": "code",
   "execution_count": null,
   "metadata": {
    "execution": {
     "iopub.execute_input": "2022-04-24T09:36:13.930897Z",
     "iopub.status.busy": "2022-04-24T09:36:13.930272Z",
     "iopub.status.idle": "2022-04-24T09:36:13.935603Z",
     "shell.execute_reply": "2022-04-24T09:36:13.934759Z",
     "shell.execute_reply.started": "2022-04-24T09:36:13.930856Z"
    }
   },
   "outputs": [],
   "source": [
    "train_df.columns = ['text', 'label']\n",
    "dev_df.columns = ['text', 'label']\n",
    "test_df.columns = ['text', 'label']"
   ]
  },
  {
   "cell_type": "code",
   "execution_count": null,
   "metadata": {
    "execution": {
     "iopub.execute_input": "2022-04-24T09:36:15.668484Z",
     "iopub.status.busy": "2022-04-24T09:36:15.667752Z",
     "iopub.status.idle": "2022-04-24T09:36:15.690539Z",
     "shell.execute_reply": "2022-04-24T09:36:15.689842Z",
     "shell.execute_reply.started": "2022-04-24T09:36:15.668442Z"
    }
   },
   "outputs": [],
   "source": [
    "train_df['label'].value_counts()"
   ]
  },
  {
   "cell_type": "code",
   "execution_count": null,
   "metadata": {
    "execution": {
     "iopub.execute_input": "2022-04-24T09:36:16.625585Z",
     "iopub.status.busy": "2022-04-24T09:36:16.62533Z",
     "iopub.status.idle": "2022-04-24T09:36:16.639354Z",
     "shell.execute_reply": "2022-04-24T09:36:16.638607Z",
     "shell.execute_reply.started": "2022-04-24T09:36:16.625556Z"
    }
   },
   "outputs": [],
   "source": [
    "train_df.head()"
   ]
  },
  {
   "cell_type": "code",
   "execution_count": null,
   "metadata": {
    "execution": {
     "iopub.execute_input": "2022-04-24T09:36:17.454123Z",
     "iopub.status.busy": "2022-04-24T09:36:17.45341Z",
     "iopub.status.idle": "2022-04-24T09:36:17.46451Z",
     "shell.execute_reply": "2022-04-24T09:36:17.463717Z",
     "shell.execute_reply.started": "2022-04-24T09:36:17.454081Z"
    }
   },
   "outputs": [],
   "source": [
    "dev_df['label'].value_counts()"
   ]
  },
  {
   "cell_type": "code",
   "execution_count": null,
   "metadata": {
    "execution": {
     "iopub.execute_input": "2022-04-24T09:36:18.310798Z",
     "iopub.status.busy": "2022-04-24T09:36:18.310534Z",
     "iopub.status.idle": "2022-04-24T09:36:18.319553Z",
     "shell.execute_reply": "2022-04-24T09:36:18.318743Z",
     "shell.execute_reply.started": "2022-04-24T09:36:18.310767Z"
    }
   },
   "outputs": [],
   "source": [
    "dev_df.head()"
   ]
  },
  {
   "cell_type": "code",
   "execution_count": null,
   "metadata": {
    "execution": {
     "iopub.execute_input": "2022-04-24T09:36:19.154917Z",
     "iopub.status.busy": "2022-04-24T09:36:19.154176Z",
     "iopub.status.idle": "2022-04-24T09:36:19.165461Z",
     "shell.execute_reply": "2022-04-24T09:36:19.164718Z",
     "shell.execute_reply.started": "2022-04-24T09:36:19.15488Z"
    }
   },
   "outputs": [],
   "source": [
    "test_df['label'].value_counts()"
   ]
  },
  {
   "cell_type": "code",
   "execution_count": null,
   "metadata": {
    "execution": {
     "iopub.execute_input": "2022-04-24T09:36:20.124154Z",
     "iopub.status.busy": "2022-04-24T09:36:20.123593Z",
     "iopub.status.idle": "2022-04-24T09:36:20.133137Z",
     "shell.execute_reply": "2022-04-24T09:36:20.1323Z",
     "shell.execute_reply.started": "2022-04-24T09:36:20.124114Z"
    }
   },
   "outputs": [],
   "source": [
    "test_df.head()"
   ]
  },
  {
   "cell_type": "markdown",
   "metadata": {},
   "source": [
    "# Label encoding"
   ]
  },
  {
   "cell_type": "code",
   "execution_count": null,
   "metadata": {
    "execution": {
     "iopub.execute_input": "2022-04-24T09:36:23.091535Z",
     "iopub.status.busy": "2022-04-24T09:36:23.091064Z",
     "iopub.status.idle": "2022-04-24T09:36:23.106488Z",
     "shell.execute_reply": "2022-04-24T09:36:23.105691Z",
     "shell.execute_reply.started": "2022-04-24T09:36:23.091499Z"
    }
   },
   "outputs": [],
   "source": [
    "train_labels = train_df.label.unique()\n",
    "\n",
    "label_dict = {}\n",
    "for index, label in enumerate(train_labels):\n",
    "    label_dict[label] = index\n",
    "label_dict"
   ]
  },
  {
   "cell_type": "code",
   "execution_count": null,
   "metadata": {
    "execution": {
     "iopub.execute_input": "2022-04-24T09:37:19.303431Z",
     "iopub.status.busy": "2022-04-24T09:37:19.303162Z",
     "iopub.status.idle": "2022-04-24T09:37:19.307682Z",
     "shell.execute_reply": "2022-04-24T09:37:19.306979Z",
     "shell.execute_reply.started": "2022-04-24T09:37:19.303402Z"
    }
   },
   "outputs": [],
   "source": [
    "with open('./label_encoding.pkl', 'wb') as fp:\n",
    "    pickle.dump(label_dict, fp)"
   ]
  },
  {
   "cell_type": "code",
   "execution_count": null,
   "metadata": {
    "execution": {
     "iopub.execute_input": "2022-04-24T09:37:25.277704Z",
     "iopub.status.busy": "2022-04-24T09:37:25.277183Z",
     "iopub.status.idle": "2022-04-24T09:37:25.352759Z",
     "shell.execute_reply": "2022-04-24T09:37:25.351998Z",
     "shell.execute_reply.started": "2022-04-24T09:37:25.277665Z"
    }
   },
   "outputs": [],
   "source": [
    "train_df['label_encode'] = train_df.label.replace(label_dict)\n",
    "dev_df['label_encode'] = dev_df.label.replace(label_dict)\n",
    "test_df['label_encode'] = test_df.label.replace(label_dict)"
   ]
  },
  {
   "cell_type": "code",
   "execution_count": null,
   "metadata": {
    "execution": {
     "iopub.execute_input": "2022-04-24T09:37:26.568473Z",
     "iopub.status.busy": "2022-04-24T09:37:26.567954Z",
     "iopub.status.idle": "2022-04-24T09:37:26.577124Z",
     "shell.execute_reply": "2022-04-24T09:37:26.576453Z",
     "shell.execute_reply.started": "2022-04-24T09:37:26.568433Z"
    }
   },
   "outputs": [],
   "source": [
    "train_df.head()"
   ]
  },
  {
   "cell_type": "code",
   "execution_count": null,
   "metadata": {
    "execution": {
     "iopub.execute_input": "2022-04-24T09:37:31.664367Z",
     "iopub.status.busy": "2022-04-24T09:37:31.663679Z",
     "iopub.status.idle": "2022-04-24T09:37:31.673777Z",
     "shell.execute_reply": "2022-04-24T09:37:31.673032Z",
     "shell.execute_reply.started": "2022-04-24T09:37:31.664327Z"
    }
   },
   "outputs": [],
   "source": [
    "dev_df.head()"
   ]
  },
  {
   "cell_type": "code",
   "execution_count": null,
   "metadata": {
    "execution": {
     "iopub.execute_input": "2022-04-24T09:37:38.048323Z",
     "iopub.status.busy": "2022-04-24T09:37:38.047757Z",
     "iopub.status.idle": "2022-04-24T09:37:38.057668Z",
     "shell.execute_reply": "2022-04-24T09:37:38.056894Z",
     "shell.execute_reply.started": "2022-04-24T09:37:38.048284Z"
    }
   },
   "outputs": [],
   "source": [
    "test_df.head()"
   ]
  },
  {
   "cell_type": "code",
   "execution_count": null,
   "metadata": {
    "execution": {
     "iopub.execute_input": "2022-04-24T09:37:38.970074Z",
     "iopub.status.busy": "2022-04-24T09:37:38.969741Z",
     "iopub.status.idle": "2022-04-24T09:37:38.980983Z",
     "shell.execute_reply": "2022-04-24T09:37:38.98015Z",
     "shell.execute_reply.started": "2022-04-24T09:37:38.970036Z"
    }
   },
   "outputs": [],
   "source": [
    "print(\"Train samples: \", train_df.shape)\n",
    "print(\"Valid samples: \", dev_df.shape)\n",
    "print(\"Test samples: \", test_df.shape)"
   ]
  },
  {
   "cell_type": "markdown",
   "metadata": {},
   "source": [
    "# Model Architecture"
   ]
  },
  {
   "cell_type": "markdown",
   "metadata": {},
   "source": [
    "## Tokenizing dataset"
   ]
  },
  {
   "cell_type": "code",
   "execution_count": null,
   "metadata": {
    "execution": {
     "iopub.execute_input": "2022-04-24T09:37:43.992919Z",
     "iopub.status.busy": "2022-04-24T09:37:43.992646Z",
     "iopub.status.idle": "2022-04-24T09:37:48.48209Z",
     "shell.execute_reply": "2022-04-24T09:37:48.481311Z",
     "shell.execute_reply.started": "2022-04-24T09:37:43.992889Z"
    }
   },
   "outputs": [],
   "source": [
    "tokenizer = BertTokenizer.from_pretrained('bert-base-multilingual-uncased', do_lower_case=False)"
   ]
  },
  {
   "cell_type": "code",
   "execution_count": null,
   "metadata": {
    "execution": {
     "iopub.execute_input": "2022-04-24T09:37:51.982808Z",
     "iopub.status.busy": "2022-04-24T09:37:51.982326Z",
     "iopub.status.idle": "2022-04-24T09:44:24.512368Z",
     "shell.execute_reply": "2022-04-24T09:44:24.511601Z",
     "shell.execute_reply.started": "2022-04-24T09:37:51.982769Z"
    }
   },
   "outputs": [],
   "source": [
    "encoded_data_train = tokenizer.batch_encode_plus(\n",
    "    train_df.text.values,\n",
    "    add_special_tokens=True, \n",
    "    return_attention_mask=True, \n",
    "    pad_to_max_length=True, \n",
    "    max_length=512,\n",
    "    return_tensors='pt'\n",
    ")"
   ]
  },
  {
   "cell_type": "code",
   "execution_count": null,
   "metadata": {
    "execution": {
     "iopub.execute_input": "2022-04-24T09:44:24.516843Z",
     "iopub.status.busy": "2022-04-24T09:44:24.51622Z",
     "iopub.status.idle": "2022-04-24T09:44:44.737608Z",
     "shell.execute_reply": "2022-04-24T09:44:44.736876Z",
     "shell.execute_reply.started": "2022-04-24T09:44:24.516794Z"
    }
   },
   "outputs": [],
   "source": [
    "encoded_data_val = tokenizer.batch_encode_plus(\n",
    "    dev_df.text.values, \n",
    "    add_special_tokens=True, \n",
    "    return_attention_mask=True, \n",
    "    pad_to_max_length=True, \n",
    "    max_length=512, \n",
    "    return_tensors='pt'\n",
    ")"
   ]
  },
  {
   "cell_type": "code",
   "execution_count": null,
   "metadata": {
    "execution": {
     "iopub.execute_input": "2022-04-24T09:44:44.739231Z",
     "iopub.status.busy": "2022-04-24T09:44:44.738982Z",
     "iopub.status.idle": "2022-04-24T09:45:06.233427Z",
     "shell.execute_reply": "2022-04-24T09:45:06.232649Z",
     "shell.execute_reply.started": "2022-04-24T09:44:44.739197Z"
    }
   },
   "outputs": [],
   "source": [
    "encoded_data_test = tokenizer.batch_encode_plus(\n",
    "    test_df.text.values, \n",
    "    add_special_tokens=True, \n",
    "    return_attention_mask=True, \n",
    "    pad_to_max_length=True, \n",
    "    max_length=512, \n",
    "    return_tensors='pt'\n",
    ")"
   ]
  },
  {
   "cell_type": "code",
   "execution_count": null,
   "metadata": {
    "execution": {
     "iopub.execute_input": "2022-04-24T09:45:17.316088Z",
     "iopub.status.busy": "2022-04-24T09:45:17.31579Z",
     "iopub.status.idle": "2022-04-24T09:45:17.400394Z",
     "shell.execute_reply": "2022-04-24T09:45:17.399666Z",
     "shell.execute_reply.started": "2022-04-24T09:45:17.31606Z"
    }
   },
   "outputs": [],
   "source": [
    "tokenizer.save_pretrained('./tokenizer/')"
   ]
  },
  {
   "cell_type": "markdown",
   "metadata": {},
   "source": [
    "## Creating input_ids, attention_masks and labels"
   ]
  },
  {
   "cell_type": "code",
   "execution_count": null,
   "metadata": {
    "execution": {
     "iopub.execute_input": "2022-04-24T10:26:33.761129Z",
     "iopub.status.busy": "2022-04-24T10:26:33.760788Z",
     "iopub.status.idle": "2022-04-24T10:26:33.768329Z",
     "shell.execute_reply": "2022-04-24T10:26:33.767591Z",
     "shell.execute_reply.started": "2022-04-24T10:26:33.761094Z"
    }
   },
   "outputs": [],
   "source": [
    "input_ids_train = encoded_data_train['input_ids']\n",
    "attention_masks_train = encoded_data_train['attention_mask']\n",
    "labels_train = torch.tensor(train_df.label_encode.values)"
   ]
  },
  {
   "cell_type": "code",
   "execution_count": null,
   "metadata": {
    "execution": {
     "iopub.execute_input": "2022-04-24T10:26:34.349851Z",
     "iopub.status.busy": "2022-04-24T10:26:34.349544Z",
     "iopub.status.idle": "2022-04-24T10:26:34.353273Z",
     "shell.execute_reply": "2022-04-24T10:26:34.352543Z",
     "shell.execute_reply.started": "2022-04-24T10:26:34.3498Z"
    }
   },
   "outputs": [],
   "source": [
    "print(input_ids_train[0])\n",
    "print(attention_masks_train[0])\n",
    "print(labels_train[0])"
   ]
  },
  {
   "cell_type": "code",
   "execution_count": null,
   "metadata": {
    "execution": {
     "iopub.execute_input": "2022-04-24T10:26:35.748186Z",
     "iopub.status.busy": "2022-04-24T10:26:35.747924Z",
     "iopub.status.idle": "2022-04-24T10:26:35.753625Z",
     "shell.execute_reply": "2022-04-24T10:26:35.752781Z",
     "shell.execute_reply.started": "2022-04-24T10:26:35.748158Z"
    }
   },
   "outputs": [],
   "source": [
    "input_ids_val = encoded_data_val['input_ids']\n",
    "attention_masks_val = encoded_data_val['attention_mask']\n",
    "labels_val = torch.tensor(dev_df.label_encode.values)"
   ]
  },
  {
   "cell_type": "code",
   "execution_count": null,
   "metadata": {
    "execution": {
     "iopub.execute_input": "2022-04-24T10:26:37.118666Z",
     "iopub.status.busy": "2022-04-24T10:26:37.118409Z",
     "iopub.status.idle": "2022-04-24T10:26:37.122086Z",
     "shell.execute_reply": "2022-04-24T10:26:37.121076Z",
     "shell.execute_reply.started": "2022-04-24T10:26:37.118635Z"
    }
   },
   "outputs": [],
   "source": [
    "print(input_ids_val[0])\n",
    "print(attention_masks_val[0])\n",
    "print(labels_val[0])"
   ]
  },
  {
   "cell_type": "code",
   "execution_count": null,
   "metadata": {
    "execution": {
     "iopub.execute_input": "2022-04-24T10:26:37.466676Z",
     "iopub.status.busy": "2022-04-24T10:26:37.466412Z",
     "iopub.status.idle": "2022-04-24T10:26:37.4718Z",
     "shell.execute_reply": "2022-04-24T10:26:37.471039Z",
     "shell.execute_reply.started": "2022-04-24T10:26:37.466635Z"
    }
   },
   "outputs": [],
   "source": [
    "input_ids_test = encoded_data_test['input_ids']\n",
    "attention_masks_test = encoded_data_test['attention_mask']\n",
    "labels_test = torch.tensor(test_df.label_encode.values)"
   ]
  },
  {
   "cell_type": "code",
   "execution_count": null,
   "metadata": {
    "execution": {
     "iopub.execute_input": "2022-04-24T10:26:38.201899Z",
     "iopub.status.busy": "2022-04-24T10:26:38.201616Z",
     "iopub.status.idle": "2022-04-24T10:26:38.20547Z",
     "shell.execute_reply": "2022-04-24T10:26:38.204852Z",
     "shell.execute_reply.started": "2022-04-24T10:26:38.201869Z"
    }
   },
   "outputs": [],
   "source": [
    "print(input_ids_test[0])\n",
    "print(attention_masks_test[0])\n",
    "print(labels_test[0])"
   ]
  },
  {
   "cell_type": "markdown",
   "metadata": {},
   "source": [
    "## Preparing the data with Data generator"
   ]
  },
  {
   "cell_type": "code",
   "execution_count": null,
   "metadata": {
    "execution": {
     "iopub.execute_input": "2022-04-24T10:26:39.194686Z",
     "iopub.status.busy": "2022-04-24T10:26:39.194312Z",
     "iopub.status.idle": "2022-04-24T10:26:39.20016Z",
     "shell.execute_reply": "2022-04-24T10:26:39.199391Z",
     "shell.execute_reply.started": "2022-04-24T10:26:39.194651Z"
    }
   },
   "outputs": [],
   "source": [
    "dataset_train = TensorDataset(input_ids_train, attention_masks_train, labels_train)\n",
    "dataset_val = TensorDataset(input_ids_val, attention_masks_val, labels_val)\n",
    "dataset_test = TensorDataset(input_ids_test, attention_masks_test, labels_test)"
   ]
  },
  {
   "cell_type": "code",
   "execution_count": null,
   "metadata": {
    "execution": {
     "iopub.execute_input": "2022-04-24T10:26:40.01655Z",
     "iopub.status.busy": "2022-04-24T10:26:40.01587Z",
     "iopub.status.idle": "2022-04-24T10:26:40.019752Z",
     "shell.execute_reply": "2022-04-24T10:26:40.018782Z",
     "shell.execute_reply.started": "2022-04-24T10:26:40.016513Z"
    }
   },
   "outputs": [],
   "source": [
    "print(dataset_train[0])\n",
    "print(dataset_val[0])\n",
    "print(dataset_test[0])"
   ]
  },
  {
   "cell_type": "markdown",
   "metadata": {},
   "source": [
    "## Model"
   ]
  },
  {
   "cell_type": "code",
   "execution_count": null,
   "metadata": {
    "execution": {
     "iopub.execute_input": "2022-04-24T10:26:43.041521Z",
     "iopub.status.busy": "2022-04-24T10:26:43.041131Z",
     "iopub.status.idle": "2022-04-24T10:27:09.343261Z",
     "shell.execute_reply": "2022-04-24T10:27:09.342604Z",
     "shell.execute_reply.started": "2022-04-24T10:26:43.041488Z"
    }
   },
   "outputs": [],
   "source": [
    "model = BertForSequenceClassification.from_pretrained(\"bert-base-multilingual-uncased\",\n",
    "                                                      num_labels=len(label_dict),\n",
    "                                                      output_attentions=False,\n",
    "                                                      output_hidden_states=False)"
   ]
  },
  {
   "cell_type": "code",
   "execution_count": null,
   "metadata": {
    "execution": {
     "iopub.execute_input": "2022-04-24T10:27:09.34936Z",
     "iopub.status.busy": "2022-04-24T10:27:09.347356Z",
     "iopub.status.idle": "2022-04-24T10:27:14.03684Z",
     "shell.execute_reply": "2022-04-24T10:27:14.035177Z",
     "shell.execute_reply.started": "2022-04-24T10:27:09.349316Z"
    }
   },
   "outputs": [],
   "source": [
    "device = torch.device('cuda' if torch.cuda.is_available() else 'cpu')\n",
    "model.to(device)\n",
    "\n",
    "print(device)"
   ]
  },
  {
   "cell_type": "markdown",
   "metadata": {},
   "source": [
    "## Preparing data generator with Data Loader"
   ]
  },
  {
   "cell_type": "code",
   "execution_count": null,
   "metadata": {
    "execution": {
     "iopub.execute_input": "2022-04-24T10:27:14.03843Z",
     "iopub.status.busy": "2022-04-24T10:27:14.038178Z",
     "iopub.status.idle": "2022-04-24T10:27:14.043516Z",
     "shell.execute_reply": "2022-04-24T10:27:14.042753Z",
     "shell.execute_reply.started": "2022-04-24T10:27:14.038394Z"
    }
   },
   "outputs": [],
   "source": [
    "dataloader_train = DataLoader(dataset_train, \n",
    "                              sampler=RandomSampler(dataset_train), \n",
    "                              batch_size=batch_size)"
   ]
  },
  {
   "cell_type": "code",
   "execution_count": null,
   "metadata": {
    "execution": {
     "iopub.execute_input": "2022-04-24T10:27:14.045856Z",
     "iopub.status.busy": "2022-04-24T10:27:14.045423Z",
     "iopub.status.idle": "2022-04-24T10:27:16.430351Z",
     "shell.execute_reply": "2022-04-24T10:27:16.429402Z",
     "shell.execute_reply.started": "2022-04-24T10:27:14.045808Z"
    }
   },
   "outputs": [],
   "source": [
    "dataloader_validation = DataLoader(dataset_val, \n",
    "                                   sampler=SequentialSampler(dataset_val), \n",
    "                                   batch_size=batch_size)"
   ]
  },
  {
   "cell_type": "code",
   "execution_count": null,
   "metadata": {
    "execution": {
     "iopub.execute_input": "2022-04-24T10:27:16.432045Z",
     "iopub.status.busy": "2022-04-24T10:27:16.431759Z",
     "iopub.status.idle": "2022-04-24T10:27:16.440131Z",
     "shell.execute_reply": "2022-04-24T10:27:16.439394Z",
     "shell.execute_reply.started": "2022-04-24T10:27:16.432014Z"
    }
   },
   "outputs": [],
   "source": [
    "dataloader_test = DataLoader(dataset_test, \n",
    "                                   sampler=SequentialSampler(dataset_test), \n",
    "                                   batch_size=test_batch_size)"
   ]
  },
  {
   "cell_type": "markdown",
   "metadata": {},
   "source": [
    "## Adding the AdamW optimizer and scheduler"
   ]
  },
  {
   "cell_type": "code",
   "execution_count": null,
   "metadata": {
    "execution": {
     "iopub.execute_input": "2022-04-24T10:27:16.441899Z",
     "iopub.status.busy": "2022-04-24T10:27:16.441116Z",
     "iopub.status.idle": "2022-04-24T10:27:16.456302Z",
     "shell.execute_reply": "2022-04-24T10:27:16.45549Z",
     "shell.execute_reply.started": "2022-04-24T10:27:16.441866Z"
    }
   },
   "outputs": [],
   "source": [
    "optimizer = AdamW(model.parameters(), lr=1e-5, eps=1e-8)"
   ]
  },
  {
   "cell_type": "code",
   "execution_count": null,
   "metadata": {
    "execution": {
     "iopub.execute_input": "2022-04-24T10:27:16.45758Z",
     "iopub.status.busy": "2022-04-24T10:27:16.457279Z",
     "iopub.status.idle": "2022-04-24T10:27:16.461875Z",
     "shell.execute_reply": "2022-04-24T10:27:16.460983Z",
     "shell.execute_reply.started": "2022-04-24T10:27:16.457545Z"
    }
   },
   "outputs": [],
   "source": [
    "scheduler = get_linear_schedule_with_warmup(optimizer, \n",
    "                                            num_warmup_steps=0,\n",
    "                                            num_training_steps=len(dataloader_train)*epochs)"
   ]
  },
  {
   "cell_type": "markdown",
   "metadata": {},
   "source": [
    "## Functions to compute f1_score and accuracy_per_class"
   ]
  },
  {
   "cell_type": "code",
   "execution_count": null,
   "metadata": {
    "execution": {
     "iopub.execute_input": "2022-04-24T10:27:16.463337Z",
     "iopub.status.busy": "2022-04-24T10:27:16.462881Z",
     "iopub.status.idle": "2022-04-24T10:27:16.471107Z",
     "shell.execute_reply": "2022-04-24T10:27:16.470334Z",
     "shell.execute_reply.started": "2022-04-24T10:27:16.463269Z"
    }
   },
   "outputs": [],
   "source": [
    "def f1_score_func(preds, labels):\n",
    "    preds_flat = np.argmax(preds, axis=1).flatten()\n",
    "    labels_flat = labels.flatten()\n",
    "    return f1_score(labels_flat, preds_flat, average='weighted')"
   ]
  },
  {
   "cell_type": "code",
   "execution_count": null,
   "metadata": {
    "execution": {
     "iopub.execute_input": "2022-04-24T10:27:59.588669Z",
     "iopub.status.busy": "2022-04-24T10:27:59.588202Z",
     "iopub.status.idle": "2022-04-24T10:27:59.594364Z",
     "shell.execute_reply": "2022-04-24T10:27:59.593654Z",
     "shell.execute_reply.started": "2022-04-24T10:27:59.588633Z"
    }
   },
   "outputs": [],
   "source": [
    "def accuracy_per_class(preds, labels):\n",
    "    label_dict_inverse = {v: k for k, v in label_dict.items()}\n",
    "    \n",
    "    preds_flat = np.argmax(preds, axis=1).flatten()\n",
    "    labels_flat = labels.flatten()\n",
    "\n",
    "    for label in np.unique(labels_flat):\n",
    "        y_preds = preds_flat[labels_flat==label]\n",
    "        y_true = labels_flat[labels_flat==label]\n",
    "        print(f'Class: {label_dict_inverse[label]}')\n",
    "        print(f'Accuracy: {len(y_preds[y_preds==label])}/{len(y_true)}\\n')"
   ]
  },
  {
   "cell_type": "markdown",
   "metadata": {},
   "source": [
    "## Setting the seed"
   ]
  },
  {
   "cell_type": "code",
   "execution_count": null,
   "metadata": {
    "execution": {
     "iopub.execute_input": "2022-04-24T10:30:08.04935Z",
     "iopub.status.busy": "2022-04-24T10:30:08.049079Z",
     "iopub.status.idle": "2022-04-24T10:30:08.053774Z",
     "shell.execute_reply": "2022-04-24T10:30:08.05314Z",
     "shell.execute_reply.started": "2022-04-24T10:30:08.049321Z"
    }
   },
   "outputs": [],
   "source": [
    "seed_val = 17\n",
    "random.seed(seed_val)\n",
    "np.random.seed(seed_val)\n",
    "torch.manual_seed(seed_val)\n",
    "torch.cuda.manual_seed_all(seed_val)"
   ]
  },
  {
   "cell_type": "markdown",
   "metadata": {},
   "source": [
    "## Model train and evaluate methods"
   ]
  },
  {
   "cell_type": "code",
   "execution_count": null,
   "metadata": {
    "execution": {
     "iopub.execute_input": "2022-04-24T10:30:08.410839Z",
     "iopub.status.busy": "2022-04-24T10:30:08.410532Z",
     "iopub.status.idle": "2022-04-24T10:30:08.419198Z",
     "shell.execute_reply": "2022-04-24T10:30:08.418467Z",
     "shell.execute_reply.started": "2022-04-24T10:30:08.410792Z"
    }
   },
   "outputs": [],
   "source": [
    "def evaluate(dataloader_val):\n",
    "\n",
    "    model.eval()\n",
    "    \n",
    "    loss_val_total = 0\n",
    "    predictions, true_vals = [], []\n",
    "    \n",
    "    for batch in tqdm(dataloader_val):\n",
    "        \n",
    "        batch = tuple(b.to(device) for b in batch)\n",
    "        \n",
    "        inputs = {'input_ids':      batch[0],\n",
    "                  'attention_mask': batch[1],\n",
    "                  'labels':         batch[2],\n",
    "                 }\n",
    "\n",
    "        with torch.no_grad():        \n",
    "            outputs = model(**inputs)\n",
    "            \n",
    "        loss = outputs[0]\n",
    "        logits = outputs[1]\n",
    "        loss_val_total += loss.item()\n",
    "\n",
    "        logits = logits.detach().cpu().numpy()\n",
    "        label_ids = inputs['labels'].cpu().numpy()\n",
    "        predictions.append(logits)\n",
    "        true_vals.append(label_ids)\n",
    "    \n",
    "    loss_val_avg = loss_val_total/len(dataloader_val) \n",
    "    \n",
    "    predictions = np.concatenate(predictions, axis=0)\n",
    "    true_vals = np.concatenate(true_vals, axis=0)\n",
    "            \n",
    "    return loss_val_avg, predictions, true_vals"
   ]
  },
  {
   "cell_type": "code",
   "execution_count": null,
   "metadata": {
    "execution": {
     "iopub.execute_input": "2022-04-24T06:20:33.770662Z",
     "iopub.status.busy": "2022-04-24T06:20:33.770152Z",
     "iopub.status.idle": "2022-04-24T08:01:57.225639Z",
     "shell.execute_reply": "2022-04-24T08:01:57.224797Z",
     "shell.execute_reply.started": "2022-04-24T06:20:33.770624Z"
    }
   },
   "outputs": [],
   "source": [
    "for epoch in range(1, epochs+1):\n",
    "    \n",
    "    model.train()\n",
    "    \n",
    "    loss_train_total = 0\n",
    "\n",
    "    progress_bar = tqdm(dataloader_train, desc='Epoch {:1d}'.format(epoch), leave=False, disable=False)\n",
    "    for batch in progress_bar:\n",
    "\n",
    "        model.zero_grad()\n",
    "        \n",
    "        batch = tuple(b.to(device) for b in batch)\n",
    "        \n",
    "        inputs = {'input_ids':      batch[0],\n",
    "                  'attention_mask': batch[1],\n",
    "                  'labels':         batch[2],\n",
    "                 }\n",
    "\n",
    "        outputs = model(**inputs)\n",
    "        \n",
    "        loss = outputs[0]\n",
    "        loss_train_total += loss.item()\n",
    "        loss.backward()\n",
    "\n",
    "        torch.nn.utils.clip_grad_norm_(model.parameters(), 1.0)\n",
    "\n",
    "        optimizer.step()\n",
    "        scheduler.step()\n",
    "        \n",
    "        progress_bar.set_postfix({'training_loss': '{:.3f}'.format(loss.item()/len(batch))})\n",
    "         \n",
    "        \n",
    "    torch.save(model.state_dict(), f'./finetuned_BERT_epoch_{epoch}.model')\n",
    "        \n",
    "    tqdm.write(f'\\nEpoch {epoch}')\n",
    "    \n",
    "    loss_train_avg = loss_train_total/len(dataloader_train)            \n",
    "    tqdm.write(f'Training loss: {loss_train_avg}')\n",
    "    \n",
    "    val_loss, predictions, true_vals = evaluate(dataloader_validation)\n",
    "    val_f1 = f1_score_func(predictions, true_vals)\n",
    "    tqdm.write(f'Validation loss: {val_loss}')\n",
    "    tqdm.write(f'F1 Score (Weighted): {val_f1}')"
   ]
  },
  {
   "cell_type": "markdown",
   "metadata": {},
   "source": [
    "# Model Testing"
   ]
  },
  {
   "cell_type": "code",
   "execution_count": null,
   "metadata": {
    "execution": {
     "iopub.execute_input": "2022-04-24T10:30:12.000294Z",
     "iopub.status.busy": "2022-04-24T10:30:12.00001Z",
     "iopub.status.idle": "2022-04-24T10:31:39.086381Z",
     "shell.execute_reply": "2022-04-24T10:31:39.085565Z",
     "shell.execute_reply.started": "2022-04-24T10:30:12.000263Z"
    }
   },
   "outputs": [],
   "source": [
    "test_loss, predictions, true_vals = evaluate(dataloader_test)"
   ]
  },
  {
   "cell_type": "markdown",
   "metadata": {},
   "source": [
    "## Model f1_score"
   ]
  },
  {
   "cell_type": "code",
   "execution_count": null,
   "metadata": {},
   "outputs": [],
   "source": [
    "test_f1 = f1_score_func(predictions, true_vals)\n",
    "tqdm.write(f'Validation loss: {test_loss}')\n",
    "tqdm.write(f'F1 Score (Weighted): {test_f1}')"
   ]
  },
  {
   "cell_type": "markdown",
   "metadata": {},
   "source": [
    "## Model accuracy per class score"
   ]
  },
  {
   "cell_type": "code",
   "execution_count": null,
   "metadata": {
    "execution": {
     "iopub.execute_input": "2022-04-24T10:33:34.121222Z",
     "iopub.status.busy": "2022-04-24T10:33:34.120888Z",
     "iopub.status.idle": "2022-04-24T10:33:34.140998Z",
     "shell.execute_reply": "2022-04-24T10:33:34.140293Z",
     "shell.execute_reply.started": "2022-04-24T10:33:34.121184Z"
    }
   },
   "outputs": [],
   "source": [
    "accuracy_per_class(predictions, true_vals)"
   ]
  },
  {
   "cell_type": "markdown",
   "metadata": {},
   "source": [
    "## Model classification report"
   ]
  },
  {
   "cell_type": "code",
   "execution_count": null,
   "metadata": {},
   "outputs": [],
   "source": [
    "classification_report(true_vals, predictions, target_names=train_labels)"
   ]
  },
  {
   "cell_type": "code",
   "execution_count": null,
   "metadata": {
    "execution": {
     "iopub.execute_input": "2022-04-24T10:37:02.988355Z",
     "iopub.status.busy": "2022-04-24T10:37:02.988089Z",
     "iopub.status.idle": "2022-04-24T10:37:03.050117Z",
     "shell.execute_reply": "2022-04-24T10:37:03.049332Z",
     "shell.execute_reply.started": "2022-04-24T10:37:02.988324Z"
    }
   },
   "outputs": [],
   "source": [
    "classification_result = []\n",
    "\n",
    "label_dict_inverse = {v: k for k, v in label_dict.items()}\n",
    "preds_flat = np.argmax(predictions, axis=1).flatten()\n",
    "labels_flat = true_vals.flatten()\n",
    "\n",
    "for i in range(len(labels_flat)):\n",
    "    actual_label = labels_flat[i]\n",
    "    actual_label = label_dict_inverse[actual_label]\n",
    "    sent = test_df['text'][i]\n",
    "    predicted_label = label_dict_inverse[preds_flat[i]]\n",
    "    \n",
    "    classification_result.append({'Actual': actual_label, 'predict': predicted_label, 'sentence': sent})"
   ]
  },
  {
   "cell_type": "code",
   "execution_count": null,
   "metadata": {
    "execution": {
     "iopub.execute_input": "2022-04-24T10:38:05.827495Z",
     "iopub.status.busy": "2022-04-24T10:38:05.827233Z",
     "iopub.status.idle": "2022-04-24T10:38:05.862905Z",
     "shell.execute_reply": "2022-04-24T10:38:05.862176Z",
     "shell.execute_reply.started": "2022-04-24T10:38:05.827465Z"
    }
   },
   "outputs": [],
   "source": [
    "with open('classification_results.pkl', 'wb') as fp:\n",
    "    pickle.dump(classification_result, fp)"
   ]
  }
 ],
 "metadata": {
  "kernelspec": {
   "display_name": "Python 3 (ipykernel)",
   "language": "python",
   "name": "python3"
  },
  "language_info": {
   "codemirror_mode": {
    "name": "ipython",
    "version": 3
   },
   "file_extension": ".py",
   "mimetype": "text/x-python",
   "name": "python",
   "nbconvert_exporter": "python",
   "pygments_lexer": "ipython3",
   "version": "3.8.10"
  }
 },
 "nbformat": 4,
 "nbformat_minor": 4
}
