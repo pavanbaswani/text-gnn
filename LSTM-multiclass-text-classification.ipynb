{
 "cells": [
  {
   "cell_type": "code",
   "execution_count": null,
   "metadata": {
    "execution": {
     "iopub.execute_input": "2022-04-24T13:13:26.518886Z",
     "iopub.status.busy": "2022-04-24T13:13:26.518552Z",
     "iopub.status.idle": "2022-04-24T13:13:26.528379Z",
     "shell.execute_reply": "2022-04-24T13:13:26.527393Z",
     "shell.execute_reply.started": "2022-04-24T13:13:26.518831Z"
    }
   },
   "outputs": [],
   "source": [
    "import numpy as np \n",
    "import pandas as pd\n",
    "import re\n",
    "import pickle\n",
    "\n",
    "import matplotlib.pyplot as plt\n",
    "import seaborn as sns\n",
    "\n",
    "from sklearn.model_selection import train_test_split\n",
    "from sklearn.metrics import classification_report\n",
    "\n",
    "from keras.preprocessing.text import Tokenizer\n",
    "from keras.preprocessing.sequence import pad_sequences\n",
    "from keras.models import Sequential, load_model\n",
    "from keras.layers import Dense, Embedding, LSTM, SpatialDropout1D\n",
    "from keras.utils.np_utils import to_categorical\n",
    "from keras.callbacks import EarlyStopping\n",
    "from keras.layers import Dropout\n",
    "from keras import backend as K\n",
    "\n",
    "from nltk.corpus import stopwords\n",
    "from nltk import word_tokenize\n",
    "STOPWORDS = set(stopwords.words('english'))"
   ]
  },
  {
   "cell_type": "code",
   "execution_count": null,
   "metadata": {},
   "outputs": [],
   "source": [
    "train_df = pd.read_csv('../input/text-classification-dataset/hindi/hindi/hindi_train.csv',lineterminator='\\n')\n",
    "dev_df = pd.read_csv('../input/text-classification-dataset/hindi/hindi/hindi_valid.csv',lineterminator='\\n')\n",
    "test_df = pd.read_csv('../input/text-classification-dataset/hindi/hindi/hindi_test.csv',lineterminator='\\n')"
   ]
  },
  {
   "cell_type": "code",
   "execution_count": null,
   "metadata": {
    "execution": {
     "iopub.execute_input": "2022-04-24T13:13:39.761413Z",
     "iopub.status.busy": "2022-04-24T13:13:39.760711Z",
     "iopub.status.idle": "2022-04-24T13:13:39.785081Z",
     "shell.execute_reply": "2022-04-24T13:13:39.783781Z",
     "shell.execute_reply.started": "2022-04-24T13:13:39.761364Z"
    }
   },
   "outputs": [],
   "source": [
    "train_df = train_df.drop(columns=['Unnamed: 0'])\n",
    "dev_df = dev_df.drop(columns=['Unnamed: 0'])\n",
    "test_df = test_df.drop(columns=['Unnamed: 0'])"
   ]
  },
  {
   "cell_type": "code",
   "execution_count": null,
   "metadata": {
    "execution": {
     "iopub.execute_input": "2022-04-24T13:13:41.770198Z",
     "iopub.status.busy": "2022-04-24T13:13:41.769432Z",
     "iopub.status.idle": "2022-04-24T13:13:41.77718Z",
     "shell.execute_reply": "2022-04-24T13:13:41.775715Z",
     "shell.execute_reply.started": "2022-04-24T13:13:41.77015Z"
    }
   },
   "outputs": [],
   "source": [
    "train_df.columns = ['text', 'label']\n",
    "dev_df.columns = ['text', 'label']\n",
    "test_df.columns = ['text', 'label']"
   ]
  },
  {
   "cell_type": "code",
   "execution_count": null,
   "metadata": {
    "execution": {
     "iopub.execute_input": "2022-04-24T13:13:43.034834Z",
     "iopub.status.busy": "2022-04-24T13:13:43.034555Z",
     "iopub.status.idle": "2022-04-24T13:13:43.055357Z",
     "shell.execute_reply": "2022-04-24T13:13:43.054414Z",
     "shell.execute_reply.started": "2022-04-24T13:13:43.034804Z"
    }
   },
   "outputs": [],
   "source": [
    "train_df.head()"
   ]
  },
  {
   "cell_type": "code",
   "execution_count": null,
   "metadata": {
    "execution": {
     "iopub.execute_input": "2022-04-24T13:13:44.108303Z",
     "iopub.status.busy": "2022-04-24T13:13:44.10773Z",
     "iopub.status.idle": "2022-04-24T13:13:44.119244Z",
     "shell.execute_reply": "2022-04-24T13:13:44.118056Z",
     "shell.execute_reply.started": "2022-04-24T13:13:44.108268Z"
    }
   },
   "outputs": [],
   "source": [
    "dev_df.head()"
   ]
  },
  {
   "cell_type": "code",
   "execution_count": null,
   "metadata": {
    "execution": {
     "iopub.execute_input": "2022-04-24T13:13:45.038609Z",
     "iopub.status.busy": "2022-04-24T13:13:45.037913Z",
     "iopub.status.idle": "2022-04-24T13:13:45.049392Z",
     "shell.execute_reply": "2022-04-24T13:13:45.048283Z",
     "shell.execute_reply.started": "2022-04-24T13:13:45.038576Z"
    }
   },
   "outputs": [],
   "source": [
    "test_df.head()"
   ]
  },
  {
   "cell_type": "code",
   "execution_count": null,
   "metadata": {
    "execution": {
     "iopub.execute_input": "2022-04-24T13:13:46.046038Z",
     "iopub.status.busy": "2022-04-24T13:13:46.045497Z",
     "iopub.status.idle": "2022-04-24T13:13:46.134669Z",
     "shell.execute_reply": "2022-04-24T13:13:46.132475Z",
     "shell.execute_reply.started": "2022-04-24T13:13:46.046005Z"
    }
   },
   "outputs": [],
   "source": [
    "# Analysing train dataframe attributes \n",
    "print('* Size of dataframe: {}\\n'.format(train_df.shape))\n",
    "print('* Datatype of columns are:\\n {}\\n'.format(train_df.dtypes))\n",
    "print('* Count of different categories:\\n {}\\n'.format(train_df['label'].value_counts()))\n",
    "print('* Number of NaNs among text are: {}\\n'.format(train_df['text'].isnull().sum()))\n",
    "\n",
    "# Converting text to string\n",
    "train_df['text'] = train_df['text'].astype(str)\n",
    "\n",
    "# Removing NaNs\n",
    "train_df = train_df.dropna(subset=['text'])\n",
    "print('NaNs are removed from the dataframe. Number of NaNs can be confirmed to be {}. The size of dataframe has reduced to {}'.format(train_df['text'].isnull().sum(), train_df.shape))\n",
    "\n",
    "# Analysing dev dataframe attributes \n",
    "print('* Size of dataframe: {}\\n'.format(dev_df.shape))\n",
    "print('* Datatype of columns are:\\n {}\\n'.format(dev_df.dtypes))\n",
    "print('* Count of different categories:\\n {}\\n'.format(dev_df['label'].value_counts()))\n",
    "print('* Number of NaNs among text are: {}\\n'.format(dev_df['text'].isnull().sum())) \n",
    "\n",
    "# Converting text to string\n",
    "dev_df['text'] = dev_df['text'].astype(str)\n",
    "\n",
    "# Removing NaNs\n",
    "dev_df = dev_df.dropna(subset=['text'])\n",
    "print('NaNs are removed from the dataframe. Number of NaNs can be confirmed to be {}. The size of dataframe has reduced to {}'.format(dev_df['text'].isnull().sum(), dev_df.shape))\n",
    "\n",
    "# Analysing test dataframe attributes \n",
    "print('* Size of dataframe: {}\\n'.format(test_df.shape))\n",
    "print('* Datatype of columns are:\\n {}\\n'.format(test_df.dtypes))\n",
    "print('* Count of different categories:\\n {}\\n'.format(test_df['label'].value_counts()))\n",
    "print('* Number of NaNs among text are: {}\\n'.format(test_df['text'].isnull().sum()))\n",
    "\n",
    "# Converting text to string\n",
    "test_df['text'] = test_df['text'].astype(str)\n",
    "\n",
    "# Removing NaNs\n",
    "test_df = test_df.dropna(subset=['text'])\n",
    "print('NaNs are removed from the dataframe. Number of NaNs can be confirmed to be {}. The size of dataframe has reduced to {}'.format(test_df['text'].isnull().sum(), test_df.shape))"
   ]
  },
  {
   "cell_type": "code",
   "execution_count": null,
   "metadata": {
    "execution": {
     "iopub.execute_input": "2022-04-24T13:13:47.323823Z",
     "iopub.status.busy": "2022-04-24T13:13:47.323415Z",
     "iopub.status.idle": "2022-04-24T13:13:47.670634Z",
     "shell.execute_reply": "2022-04-24T13:13:47.669739Z",
     "shell.execute_reply.started": "2022-04-24T13:13:47.323781Z"
    }
   },
   "outputs": [],
   "source": [
    "# Plotting label value counts\n",
    "train_df.groupby('label').count().plot(kind='bar')\n",
    "plt.show()"
   ]
  },
  {
   "cell_type": "code",
   "execution_count": null,
   "metadata": {
    "execution": {
     "iopub.execute_input": "2022-04-24T13:13:48.683099Z",
     "iopub.status.busy": "2022-04-24T13:13:48.682297Z",
     "iopub.status.idle": "2022-04-24T13:13:49.006884Z",
     "shell.execute_reply": "2022-04-24T13:13:49.005797Z",
     "shell.execute_reply.started": "2022-04-24T13:13:48.683045Z"
    }
   },
   "outputs": [],
   "source": [
    "# Plotting word lenghts of train text\n",
    "train_word_length = [len(x) for x in train_df['text']]\n",
    "plt.plot(train_word_length)\n",
    "maxl = max(train_word_length)"
   ]
  },
  {
   "cell_type": "code",
   "execution_count": null,
   "metadata": {
    "execution": {
     "iopub.execute_input": "2022-04-24T13:13:50.139794Z",
     "iopub.status.busy": "2022-04-24T13:13:50.139363Z",
     "iopub.status.idle": "2022-04-24T13:13:50.380848Z",
     "shell.execute_reply": "2022-04-24T13:13:50.379778Z",
     "shell.execute_reply.started": "2022-04-24T13:13:50.13976Z"
    }
   },
   "outputs": [],
   "source": [
    "# Plotting label value counts\n",
    "dev_df.groupby('label').count().plot(kind='bar')\n",
    "plt.show()"
   ]
  },
  {
   "cell_type": "code",
   "execution_count": null,
   "metadata": {
    "execution": {
     "iopub.execute_input": "2022-04-24T13:13:57.083914Z",
     "iopub.status.busy": "2022-04-24T13:13:57.083039Z",
     "iopub.status.idle": "2022-04-24T13:13:57.36968Z",
     "shell.execute_reply": "2022-04-24T13:13:57.36873Z",
     "shell.execute_reply.started": "2022-04-24T13:13:57.083849Z"
    }
   },
   "outputs": [],
   "source": [
    "# Plotting word lenghts of train text\n",
    "dev_word_length = [len(x) for x in dev_df['text']]\n",
    "plt.plot(dev_word_length)"
   ]
  },
  {
   "cell_type": "code",
   "execution_count": null,
   "metadata": {
    "execution": {
     "iopub.execute_input": "2022-04-24T13:13:58.824489Z",
     "iopub.status.busy": "2022-04-24T13:13:58.824145Z",
     "iopub.status.idle": "2022-04-24T13:13:59.064784Z",
     "shell.execute_reply": "2022-04-24T13:13:59.063777Z",
     "shell.execute_reply.started": "2022-04-24T13:13:58.824458Z"
    }
   },
   "outputs": [],
   "source": [
    "# Plotting label value counts\n",
    "test_df.groupby('label').count().plot(kind='bar')\n",
    "plt.show()"
   ]
  },
  {
   "cell_type": "code",
   "execution_count": null,
   "metadata": {
    "execution": {
     "iopub.execute_input": "2022-04-24T13:14:00.297061Z",
     "iopub.status.busy": "2022-04-24T13:14:00.296497Z",
     "iopub.status.idle": "2022-04-24T13:14:00.552917Z",
     "shell.execute_reply": "2022-04-24T13:14:00.551923Z",
     "shell.execute_reply.started": "2022-04-24T13:14:00.297013Z"
    }
   },
   "outputs": [],
   "source": [
    "# Plotting word lenghts of train text\n",
    "test_word_length = [len(x) for x in test_df['text']]\n",
    "plt.plot(test_word_length)"
   ]
  },
  {
   "cell_type": "markdown",
   "metadata": {},
   "source": [
    "# So this will be the maximum length of padding.."
   ]
  },
  {
   "cell_type": "code",
   "execution_count": null,
   "metadata": {
    "execution": {
     "iopub.execute_input": "2022-04-24T13:49:12.768755Z",
     "iopub.status.busy": "2022-04-24T13:49:12.768475Z",
     "iopub.status.idle": "2022-04-24T13:49:28.050988Z",
     "shell.execute_reply": "2022-04-24T13:49:28.049885Z",
     "shell.execute_reply.started": "2022-04-24T13:49:12.768711Z"
    }
   },
   "outputs": [],
   "source": [
    "tokenizer = Tokenizer(num_words=30000, filters='!\"#$%&()*+,-./:;<=>?@[\\]^_`{|}~', lower=True)\n",
    "tokenizer.fit_on_texts(train_df['text'].values)\n",
    "word_index = tokenizer.word_index\n",
    "print('Found %s unique tokens.' % len(word_index))"
   ]
  },
  {
   "cell_type": "code",
   "execution_count": null,
   "metadata": {
    "execution": {
     "iopub.execute_input": "2022-04-24T13:49:30.245966Z",
     "iopub.status.busy": "2022-04-24T13:49:30.245506Z",
     "iopub.status.idle": "2022-04-24T13:49:30.253814Z",
     "shell.execute_reply": "2022-04-24T13:49:30.252754Z",
     "shell.execute_reply.started": "2022-04-24T13:49:30.245928Z"
    }
   },
   "outputs": [],
   "source": [
    "maxl"
   ]
  },
  {
   "cell_type": "code",
   "execution_count": null,
   "metadata": {
    "execution": {
     "iopub.execute_input": "2022-04-24T13:50:18.790674Z",
     "iopub.status.busy": "2022-04-24T13:50:18.790306Z",
     "iopub.status.idle": "2022-04-24T13:50:18.79518Z",
     "shell.execute_reply": "2022-04-24T13:50:18.794061Z",
     "shell.execute_reply.started": "2022-04-24T13:50:18.790628Z"
    }
   },
   "outputs": [],
   "source": [
    "max_length = 512"
   ]
  },
  {
   "cell_type": "markdown",
   "metadata": {},
   "source": [
    "# As the length maximum length of the sequence is much, we will be selecting maximum length as 512."
   ]
  },
  {
   "cell_type": "code",
   "execution_count": null,
   "metadata": {
    "execution": {
     "iopub.execute_input": "2022-04-24T13:50:19.814811Z",
     "iopub.status.busy": "2022-04-24T13:50:19.813755Z",
     "iopub.status.idle": "2022-04-24T13:50:32.537091Z",
     "shell.execute_reply": "2022-04-24T13:50:32.5359Z",
     "shell.execute_reply.started": "2022-04-24T13:50:19.814769Z"
    }
   },
   "outputs": [],
   "source": [
    "X_train = tokenizer.texts_to_sequences(train_df['text'].values)\n",
    "X_train = pad_sequences(X_train, maxlen=max_length)\n",
    "X_train.shape"
   ]
  },
  {
   "cell_type": "code",
   "execution_count": null,
   "metadata": {
    "execution": {
     "iopub.execute_input": "2022-04-24T13:50:32.539513Z",
     "iopub.status.busy": "2022-04-24T13:50:32.539143Z",
     "iopub.status.idle": "2022-04-24T13:50:33.178909Z",
     "shell.execute_reply": "2022-04-24T13:50:33.178063Z",
     "shell.execute_reply.started": "2022-04-24T13:50:32.539469Z"
    }
   },
   "outputs": [],
   "source": [
    "X_valid = tokenizer.texts_to_sequences(dev_df['text'].values)\n",
    "X_valid = pad_sequences(X_valid, maxlen=max_length)\n",
    "X_valid.shape"
   ]
  },
  {
   "cell_type": "code",
   "execution_count": null,
   "metadata": {
    "execution": {
     "iopub.execute_input": "2022-04-24T13:50:33.181477Z",
     "iopub.status.busy": "2022-04-24T13:50:33.180895Z",
     "iopub.status.idle": "2022-04-24T13:50:33.839084Z",
     "shell.execute_reply": "2022-04-24T13:50:33.837919Z",
     "shell.execute_reply.started": "2022-04-24T13:50:33.181429Z"
    }
   },
   "outputs": [],
   "source": [
    "X_test = tokenizer.texts_to_sequences(test_df['text'].values)\n",
    "X_test = pad_sequences(X_test, maxlen=max_length)\n",
    "X_test.shape"
   ]
  },
  {
   "cell_type": "code",
   "execution_count": null,
   "metadata": {
    "execution": {
     "iopub.execute_input": "2022-04-24T13:50:33.84176Z",
     "iopub.status.busy": "2022-04-24T13:50:33.841472Z",
     "iopub.status.idle": "2022-04-24T13:50:33.861269Z",
     "shell.execute_reply": "2022-04-24T13:50:33.860012Z",
     "shell.execute_reply.started": "2022-04-24T13:50:33.841716Z"
    }
   },
   "outputs": [],
   "source": [
    "Y_train = pd.get_dummies(train_df['label'],columns=train_df[\"label\"]).values\n",
    "Y_train.shape"
   ]
  },
  {
   "cell_type": "code",
   "execution_count": null,
   "metadata": {
    "execution": {
     "iopub.execute_input": "2022-04-24T13:50:33.863463Z",
     "iopub.status.busy": "2022-04-24T13:50:33.86261Z",
     "iopub.status.idle": "2022-04-24T13:50:33.873941Z",
     "shell.execute_reply": "2022-04-24T13:50:33.87302Z",
     "shell.execute_reply.started": "2022-04-24T13:50:33.863388Z"
    }
   },
   "outputs": [],
   "source": [
    "Y_valid = pd.get_dummies(dev_df['label'],columns=dev_df[\"label\"]).values\n",
    "Y_valid.shape"
   ]
  },
  {
   "cell_type": "code",
   "execution_count": null,
   "metadata": {
    "execution": {
     "iopub.execute_input": "2022-04-24T13:50:33.876695Z",
     "iopub.status.busy": "2022-04-24T13:50:33.876112Z",
     "iopub.status.idle": "2022-04-24T13:50:33.886717Z",
     "shell.execute_reply": "2022-04-24T13:50:33.885604Z",
     "shell.execute_reply.started": "2022-04-24T13:50:33.876649Z"
    }
   },
   "outputs": [],
   "source": [
    "Y_test = pd.get_dummies(test_df['label'],columns=test_df[\"label\"]).values\n",
    "Y_test.shape"
   ]
  },
  {
   "cell_type": "markdown",
   "metadata": {},
   "source": [
    "# MODEL"
   ]
  },
  {
   "cell_type": "code",
   "execution_count": null,
   "metadata": {
    "execution": {
     "iopub.execute_input": "2022-04-24T13:50:52.870838Z",
     "iopub.status.busy": "2022-04-24T13:50:52.870544Z",
     "iopub.status.idle": "2022-04-24T13:50:52.875548Z",
     "shell.execute_reply": "2022-04-24T13:50:52.874265Z",
     "shell.execute_reply.started": "2022-04-24T13:50:52.870808Z"
    }
   },
   "outputs": [],
   "source": [
    "## Model parameters\n",
    "embed_dim = 100"
   ]
  },
  {
   "cell_type": "code",
   "execution_count": null,
   "metadata": {
    "execution": {
     "iopub.execute_input": "2022-04-24T13:50:54.175263Z",
     "iopub.status.busy": "2022-04-24T13:50:54.174369Z",
     "iopub.status.idle": "2022-04-24T13:50:54.33564Z",
     "shell.execute_reply": "2022-04-24T13:50:54.334675Z",
     "shell.execute_reply.started": "2022-04-24T13:50:54.175227Z"
    }
   },
   "outputs": [],
   "source": [
    "model=Sequential()\n",
    "model.add(Embedding(30000,embed_dim,input_length=max_length))\n",
    "model.add(SpatialDropout1D(0.2))\n",
    "model.add(LSTM(32, dropout=0.2, recurrent_dropout=0.2))\n",
    "model.add(Dense(Y_train.shape[1], activation='softmax'))\n",
    "model.compile(loss='categorical_crossentropy', optimizer='adam', metrics=['accuracy'])"
   ]
  },
  {
   "cell_type": "code",
   "execution_count": null,
   "metadata": {
    "execution": {
     "iopub.execute_input": "2022-04-24T13:50:57.316015Z",
     "iopub.status.busy": "2022-04-24T13:50:57.314253Z",
     "iopub.status.idle": "2022-04-24T13:50:57.330178Z",
     "shell.execute_reply": "2022-04-24T13:50:57.328702Z",
     "shell.execute_reply.started": "2022-04-24T13:50:57.315949Z"
    }
   },
   "outputs": [],
   "source": [
    "model.summary()"
   ]
  },
  {
   "cell_type": "code",
   "execution_count": null,
   "metadata": {
    "execution": {
     "iopub.execute_input": "2022-04-24T13:52:37.294173Z",
     "iopub.status.busy": "2022-04-24T13:52:37.293422Z",
     "iopub.status.idle": "2022-04-24T14:53:59.383716Z",
     "shell.execute_reply": "2022-04-24T14:53:59.382554Z",
     "shell.execute_reply.started": "2022-04-24T13:52:37.294124Z"
    }
   },
   "outputs": [],
   "source": [
    "history = model.fit(X_train, Y_train, epochs=5, batch_size=64,validation_data=(X_valid, Y_valid),callbacks=[EarlyStopping(monitor='val_loss', patience=3, min_delta=0.0001)])"
   ]
  },
  {
   "cell_type": "code",
   "execution_count": null,
   "metadata": {
    "execution": {
     "iopub.execute_input": "2022-04-24T14:53:59.386456Z",
     "iopub.status.busy": "2022-04-24T14:53:59.386031Z",
     "iopub.status.idle": "2022-04-24T14:55:00.076981Z",
     "shell.execute_reply": "2022-04-24T14:55:00.075787Z",
     "shell.execute_reply.started": "2022-04-24T14:53:59.386409Z"
    }
   },
   "outputs": [],
   "source": [
    "model.save('model')"
   ]
  },
  {
   "cell_type": "code",
   "execution_count": null,
   "metadata": {
    "execution": {
     "iopub.execute_input": "2022-04-24T14:55:00.080616Z",
     "iopub.status.busy": "2022-04-24T14:55:00.080319Z",
     "iopub.status.idle": "2022-04-24T14:55:01.080993Z",
     "shell.execute_reply": "2022-04-24T14:55:01.079942Z",
     "shell.execute_reply.started": "2022-04-24T14:55:00.080574Z"
    }
   },
   "outputs": [],
   "source": [
    "# saving\n",
    "with open('./tokenizer.pickle', 'wb') as handle:\n",
    "    pickle.dump(tokenizer, handle, protocol=pickle.HIGHEST_PROTOCOL)"
   ]
  },
  {
   "cell_type": "code",
   "execution_count": null,
   "metadata": {
    "execution": {
     "iopub.execute_input": "2022-04-24T14:55:01.084828Z",
     "iopub.status.busy": "2022-04-24T14:55:01.084485Z",
     "iopub.status.idle": "2022-04-24T14:55:22.933636Z",
     "shell.execute_reply": "2022-04-24T14:55:22.932534Z",
     "shell.execute_reply.started": "2022-04-24T14:55:01.084781Z"
    }
   },
   "outputs": [],
   "source": [
    "accr = model.evaluate(X_test,Y_test)\n",
    "print('Test set\\n  Loss: {:0.3f}\\n  Accuracy: {:0.3f}'.format(accr[0],accr[1]))"
   ]
  },
  {
   "cell_type": "code",
   "execution_count": null,
   "metadata": {
    "execution": {
     "iopub.execute_input": "2022-04-24T14:55:22.935769Z",
     "iopub.status.busy": "2022-04-24T14:55:22.935405Z",
     "iopub.status.idle": "2022-04-24T14:55:23.171803Z",
     "shell.execute_reply": "2022-04-24T14:55:23.170809Z",
     "shell.execute_reply.started": "2022-04-24T14:55:22.93572Z"
    }
   },
   "outputs": [],
   "source": [
    "plt.title('Loss')\n",
    "plt.plot(history.history['loss'], label='train')\n",
    "plt.plot(history.history['val_loss'], label='test')\n",
    "plt.legend()\n",
    "plt.show();"
   ]
  },
  {
   "cell_type": "code",
   "execution_count": null,
   "metadata": {
    "execution": {
     "iopub.execute_input": "2022-04-24T14:55:23.174097Z",
     "iopub.status.busy": "2022-04-24T14:55:23.173556Z",
     "iopub.status.idle": "2022-04-24T14:55:23.404798Z",
     "shell.execute_reply": "2022-04-24T14:55:23.403823Z",
     "shell.execute_reply.started": "2022-04-24T14:55:23.174048Z"
    }
   },
   "outputs": [],
   "source": [
    "plt.title('Accuracy')\n",
    "plt.plot(history.history['accuracy'], label='train')\n",
    "plt.plot(history.history['val_accuracy'], label='test')\n",
    "plt.legend()\n",
    "plt.show();"
   ]
  },
  {
   "cell_type": "markdown",
   "metadata": {},
   "source": [
    "## Classification report"
   ]
  },
  {
   "cell_type": "code",
   "execution_count": null,
   "metadata": {
    "execution": {
     "iopub.execute_input": "2022-04-24T14:55:23.406631Z",
     "iopub.status.busy": "2022-04-24T14:55:23.406271Z",
     "iopub.status.idle": "2022-04-24T14:55:44.20162Z",
     "shell.execute_reply": "2022-04-24T14:55:44.200602Z",
     "shell.execute_reply.started": "2022-04-24T14:55:23.406574Z"
    }
   },
   "outputs": [],
   "source": [
    "y_pred = model.predict(X_test)"
   ]
  },
  {
   "cell_type": "code",
   "execution_count": null,
   "metadata": {
    "execution": {
     "iopub.execute_input": "2022-04-24T14:55:44.20399Z",
     "iopub.status.busy": "2022-04-24T14:55:44.203347Z",
     "iopub.status.idle": "2022-04-24T14:55:44.210566Z",
     "shell.execute_reply": "2022-04-24T14:55:44.209432Z",
     "shell.execute_reply.started": "2022-04-24T14:55:44.203942Z"
    }
   },
   "outputs": [],
   "source": [
    "y_pred = np.argmax(y_pred, axis=1)\n",
    "y_true = np.argmax(Y_test, axis=1)"
   ]
  },
  {
   "cell_type": "code",
   "execution_count": null,
   "metadata": {
    "execution": {
     "iopub.execute_input": "2022-04-24T14:55:44.213062Z",
     "iopub.status.busy": "2022-04-24T14:55:44.212622Z",
     "iopub.status.idle": "2022-04-24T14:55:44.242151Z",
     "shell.execute_reply": "2022-04-24T14:55:44.241202Z",
     "shell.execute_reply.started": "2022-04-24T14:55:44.213017Z"
    }
   },
   "outputs": [],
   "source": [
    "print(classification_report(y_true, y_pred))"
   ]
  },
  {
   "cell_type": "markdown",
   "metadata": {},
   "source": [
    "## Testing model with user input"
   ]
  },
  {
   "cell_type": "code",
   "execution_count": null,
   "metadata": {},
   "outputs": [],
   "source": [
    "model = load_model(\"model\")"
   ]
  },
  {
   "cell_type": "code",
   "execution_count": null,
   "metadata": {},
   "outputs": [],
   "source": [
    "# loading\n",
    "with open('tokenizer.pickle', 'rb') as handle:\n",
    "    tokenizer = pickle.load(handle)"
   ]
  },
  {
   "cell_type": "code",
   "execution_count": null,
   "metadata": {
    "execution": {
     "iopub.execute_input": "2022-04-24T14:55:44.246056Z",
     "iopub.status.busy": "2022-04-24T14:55:44.245593Z",
     "iopub.status.idle": "2022-04-24T14:55:44.257895Z",
     "shell.execute_reply": "2022-04-24T14:55:44.256933Z",
     "shell.execute_reply.started": "2022-04-24T14:55:44.246012Z"
    }
   },
   "outputs": [],
   "source": [
    "labels_list = train_df['label'].unique()"
   ]
  },
  {
   "cell_type": "code",
   "execution_count": null,
   "metadata": {
    "execution": {
     "iopub.execute_input": "2022-04-24T14:55:44.261146Z",
     "iopub.status.busy": "2022-04-24T14:55:44.260373Z",
     "iopub.status.idle": "2022-04-24T14:55:45.428594Z",
     "shell.execute_reply": "2022-04-24T14:55:45.427554Z",
     "shell.execute_reply.started": "2022-04-24T14:55:44.261088Z"
    }
   },
   "outputs": [],
   "source": [
    "new_sentence = ['ఒకప్పుడు స్టార్‌ హీరోయిన్‌గా వెలుగువెలిగింది అందాల నటి మీనా. బాల నటిగా ఎంట్రీ ఇచ్చిన ఆమె తన అందచందాలతో, చక్కటి అభినయంతో చిత్ర పరిశ్రమలో తనకంటూ ప్రత్యేకమైన గుర్తింపు తెచ్చుకుంది. ఇటీవల అరుదైన దుబాయ్‌ గోల్డెన్ వీసాను కూడా అందుకుంది. అయితే కెరీర్‌ సరిగా లేని సమయంలో ప్రముఖ వ్యాపారవేత్త సాగర్‌ను ప్రేమించి పెళ్లి చేసుకుంది. వారికి ఒక పాప నైనిక ఉంది. ఆమె కూడా సినిమాల్లో నటిస్తోంది. కోలీవుడ్ స్టార్‌ హీరో విజయ్‌ నటించిన పోలీసోడు చిత్రంలో అతనికి కూతురుగా యాక్ట్‌ చేసి మెప్పించింది. కూతురు పుట్టిన తర్వాత కొంతకాలం వరకు సినిమాలు చేయలేదు మీనా.']\n",
    "seq = tokenizer.texts_to_sequences(new_sentence)\n",
    "padded = pad_sequences(seq, maxlen=max_length)\n",
    "pred = model.predict(padded)\n",
    "labels = labels_list\n",
    "print(pred, labels[np.argmax(pred)])"
   ]
  },
  {
   "cell_type": "code",
   "execution_count": null,
   "metadata": {
    "execution": {
     "iopub.execute_input": "2022-04-24T14:55:45.430536Z",
     "iopub.status.busy": "2022-04-24T14:55:45.430247Z",
     "iopub.status.idle": "2022-04-24T14:55:46.357705Z",
     "shell.execute_reply": "2022-04-24T14:55:46.356582Z",
     "shell.execute_reply.started": "2022-04-24T14:55:45.430493Z"
    }
   },
   "outputs": [],
   "source": [
    "new_sentence = ['ఐపీఎల్​ మ్యాచ్​లు గడుస్తున్నా కొద్దీ క్రికెట్ అభిమానుల్లో ఓ విషయంపై ఆందోళన పెరిగిపోతోంది. టీమ్ఇండియాకు మూలస్తంభాలుగా ఉన్న విరాట్ కోహ్లీ, రోహిత్ శర్మ.. పూర్తిగా లయ తప్పడం కలవరపాటుకు గురి చేస్తోంది. అయితే, ఈ సమయంలో వీరిద్దరికీ అండగా నిలవాలని మాజీలు కోరుతున్నారు. వీరి పేలవ ఫామ్ తాత్కాలికమేనని, త్వరలోనే తిరిగి విజృంభిస్తారని ధీమా వ్యక్తం చేస్తున్నారు.']\n",
    "seq = tokenizer.texts_to_sequences(new_sentence)\n",
    "padded = pad_sequences(seq, maxlen=max_length)\n",
    "pred = model.predict(padded)\n",
    "labels = labels_list\n",
    "print(pred, labels[np.argmax(pred)])"
   ]
  },
  {
   "cell_type": "code",
   "execution_count": null,
   "metadata": {
    "execution": {
     "iopub.execute_input": "2022-04-24T14:55:46.360038Z",
     "iopub.status.busy": "2022-04-24T14:55:46.359681Z",
     "iopub.status.idle": "2022-04-24T14:55:47.304597Z",
     "shell.execute_reply": "2022-04-24T14:55:47.303596Z",
     "shell.execute_reply.started": "2022-04-24T14:55:46.359993Z"
    }
   },
   "outputs": [],
   "source": [
    "new_sentence =['ఎన్టీఆర్ జిల్లా ఎ.కొండూరు మండలం కేస్యా తండాలో కిడ్నీ బాధితుల మరణాలు కొనసాగుతున్నాయి. ఒకే వారంలో ఇద్దరు మృత్యువాత పడగా.. గత 40 రోజులల్లో 8 మంది మృతిచెందారు. దీంతో స్థానికులు భయం గుప్పిట్లో బిక్కుబిక్కుమంటూ బతుకుతున్నారు.']\n",
    "seq = tokenizer.texts_to_sequences(new_sentence)\n",
    "padded = pad_sequences(seq, maxlen=max_length)\n",
    "pred = model.predict(padded)\n",
    "labels = labels_list\n",
    "print(pred, labels[np.argmax(pred)])"
   ]
  },
  {
   "cell_type": "code",
   "execution_count": null,
   "metadata": {
    "execution": {
     "iopub.execute_input": "2022-04-24T14:55:47.306739Z",
     "iopub.status.busy": "2022-04-24T14:55:47.306438Z",
     "iopub.status.idle": "2022-04-24T14:55:48.220511Z",
     "shell.execute_reply": "2022-04-24T14:55:48.219554Z",
     "shell.execute_reply.started": "2022-04-24T14:55:47.306695Z"
    }
   },
   "outputs": [],
   "source": [
    "new_sentence = ['వెండి ధరలు ఆదివారం స్వల్పంగా తగ్గాయి. ఆంధ్రప్రదేశ్​, తెలంగాణలో 10 గ్రాముల మేలిమి పుత్తడి ధర రూ.54వేల 100కుపైగా ఉంది. వెండి ధర కిలో రూ.70వేల దిగువన ఉంది. అంతర్జాతీయంగా క్రిప్టోకరెన్సీల్లో బిట్​ కాయిన్ విలువ పెరిగింది.']\n",
    "seq = tokenizer.texts_to_sequences(new_sentence)\n",
    "padded = pad_sequences(seq, maxlen=max_length)\n",
    "pred = model.predict(padded)\n",
    "labels = labels_list\n",
    "print(pred, labels[np.argmax(pred)])"
   ]
  },
  {
   "cell_type": "code",
   "execution_count": null,
   "metadata": {},
   "outputs": [],
   "source": []
  }
 ],
 "metadata": {
  "kernelspec": {
   "display_name": "Python 3 (ipykernel)",
   "language": "python",
   "name": "python3"
  },
  "language_info": {
   "codemirror_mode": {
    "name": "ipython",
    "version": 3
   },
   "file_extension": ".py",
   "mimetype": "text/x-python",
   "name": "python",
   "nbconvert_exporter": "python",
   "pygments_lexer": "ipython3",
   "version": "3.8.10"
  }
 },
 "nbformat": 4,
 "nbformat_minor": 4
}
